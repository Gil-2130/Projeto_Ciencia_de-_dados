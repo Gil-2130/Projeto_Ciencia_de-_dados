{
 "cells": [
  {
   "cell_type": "markdown",
   "id": "bb7927f4",
   "metadata": {},
   "source": [
    "## Capitulo 3\n",
    "\n",
    "### Projeto_data_Science\n",
    "\n",
    "#### Scikit-Learn, avaliação de modelo e regressão logistica"
   ]
  },
  {
   "cell_type": "code",
   "execution_count": 1,
   "id": "ddfe95e6",
   "metadata": {},
   "outputs": [],
   "source": [
    "# importando bibliotecas\n",
    "import numpy as np\n",
    "import pandas as pd\n",
    "import matplotlib.pyplot as plt\n",
    "%matplotlib inline\n",
    "import matplotlib as mpl\n",
    "mpl.rcParams['figure.dpi'] = 400"
   ]
  },
  {
   "cell_type": "code",
   "execution_count": 2,
   "id": "26556db8",
   "metadata": {},
   "outputs": [],
   "source": [
    "# utilizando a versão limpa do arquivo csv que criamos anteriormente\n",
    "df = pd.read_csv('Capitulo_1_arquivo_limpo.csv')"
   ]
  },
  {
   "cell_type": "code",
   "execution_count": 3,
   "id": "8d9d473d",
   "metadata": {},
   "outputs": [
    {
     "data": {
      "text/plain": [
       "0.2217971797179718"
      ]
     },
     "execution_count": 3,
     "metadata": {},
     "output_type": "execute_result"
    }
   ],
   "source": [
    "#Encontrando a proporção de classe positiva atrvé da média da variável de resposta do Dataset\n",
    "# assim teremos também a taxa de inadimplência\n",
    "df['default payment next month'].mean()"
   ]
  },
  {
   "cell_type": "code",
   "execution_count": 4,
   "id": "acd48b07",
   "metadata": {},
   "outputs": [
    {
     "data": {
      "text/plain": [
       "default payment next month\n",
       "0    20750\n",
       "1     5914\n",
       "Name: ID, dtype: int64"
      ]
     },
     "execution_count": 4,
     "metadata": {},
     "output_type": "execute_result"
    }
   ],
   "source": [
    "# verificando o número de amostras em cada classe\n",
    "df.groupby('default payment next month')['ID'].count()"
   ]
  },
  {
   "cell_type": "markdown",
   "id": "1f27495a",
   "metadata": {},
   "source": [
    "#### Podemos verificar acima que a variável alvo é 1 ou 0 e o percentual  de contas inadimplentes é de 22%. também verificamos o número de contas de cada classe executando uma operação 'groupby/count'."
   ]
  },
  {
   "cell_type": "markdown",
   "id": "f5225694",
   "metadata": {},
   "source": [
    "# Implementando um modelo de Scikit-Learn\n",
    "\n",
    "### Modelagem preditiva e regressão logística"
   ]
  },
  {
   "cell_type": "code",
   "execution_count": 5,
   "id": "354051b6",
   "metadata": {},
   "outputs": [],
   "source": [
    "# importando regressão logistica\n",
    "from sklearn.linear_model import LogisticRegression"
   ]
  },
  {
   "cell_type": "code",
   "execution_count": 6,
   "id": "f22d7f66",
   "metadata": {},
   "outputs": [],
   "source": [
    "my_lr = LogisticRegression()"
   ]
  },
  {
   "cell_type": "code",
   "execution_count": 7,
   "id": "750e6514",
   "metadata": {},
   "outputs": [
    {
     "data": {
      "text/plain": [
       "LogisticRegression()"
      ]
     },
     "execution_count": 7,
     "metadata": {},
     "output_type": "execute_result"
    }
   ],
   "source": [
    "my_lr"
   ]
  },
  {
   "cell_type": "code",
   "execution_count": 19,
   "id": "42087c7b",
   "metadata": {},
   "outputs": [],
   "source": [
    "# Instanciando um modelo de regressão logistica com opções padrão\n",
    "\n",
    "my_new_lr = LogisticRegression(C=1.0, class_weight=None, dual=False, fit_intercept=True, \n",
    "            intercept_scaling=1, max_iter=100, multi_class='auto',\n",
    "            n_jobs=None, penalty='l2', random_state=None, solver='warn',\n",
    "            tol=0.0001, verbose=0, warm_start=False)"
   ]
  },
  {
   "cell_type": "markdown",
   "id": "8e0225b1",
   "metadata": {},
   "source": [
    "### Obs: nos parâmetros \"multi_class\" setado como \"warn\", eu estava obtendo erros de saída no encapsulamento das variáveis 'x e y'. Devido a isso também não seria possível executar o treinamento de modelos e realizar previsões.\n",
    "\n",
    "### Foi necessário alterar os parâmetros para \"auto\" e então nosso modelo de regressão logistica funcionou perfeitamente!!"
   ]
  },
  {
   "cell_type": "code",
   "execution_count": 27,
   "id": "44ec956d",
   "metadata": {},
   "outputs": [
    {
     "data": {
      "text/plain": [
       "LogisticRegression(C=0.1, solver='liblinear')"
      ]
     },
     "execution_count": 27,
     "metadata": {},
     "output_type": "execute_result"
    }
   ],
   "source": [
    "# Definindo opçoes e exibindo o estado atual do objeto de modelo.\n",
    "# O objeto de modelo criado abaixo é um modelo treinado\n",
    "# iremos usá-lo para fazer previsões para novas caracteristicas que o modelo ainda não não 'conhece'\n",
    "my_new_lr.C = 0.1\n",
    "my_new_lr.solver = 'liblinear'\n",
    "my_new_lr"
   ]
  },
  {
   "cell_type": "code",
   "execution_count": 21,
   "id": "6ed84a57",
   "metadata": {},
   "outputs": [
    {
     "data": {
      "text/plain": [
       "array([[2],\n",
       "       [2],\n",
       "       [2],\n",
       "       [2],\n",
       "       [2],\n",
       "       [1],\n",
       "       [1],\n",
       "       [2],\n",
       "       [3],\n",
       "       [3]], dtype=int64)"
      ]
     },
     "execution_count": 21,
     "metadata": {},
     "output_type": "execute_result"
    }
   ],
   "source": [
    "# iremos usar as 10 primeiras linhas da caracteristica EDUCATION para teste\n",
    "x = df['EDUCATION'][0:10].values.reshape(-1,1)\n",
    "x"
   ]
  },
  {
   "cell_type": "code",
   "execution_count": 22,
   "id": "1632fe41",
   "metadata": {},
   "outputs": [
    {
     "data": {
      "text/plain": [
       "array([1, 1, 0, 0, 0, 0, 0, 0, 0, 0], dtype=int64)"
      ]
     },
     "execution_count": 22,
     "metadata": {},
     "output_type": "execute_result"
    }
   ],
   "source": [
    "y = df['default payment next month'][0:10].values\n",
    "y"
   ]
  },
  {
   "cell_type": "code",
   "execution_count": 23,
   "id": "859c93b6",
   "metadata": {},
   "outputs": [
    {
     "data": {
      "text/plain": [
       "LogisticRegression(C=0.1, solver='liblinear')"
      ]
     },
     "execution_count": 23,
     "metadata": {},
     "output_type": "execute_result"
    }
   ],
   "source": [
    "my_new_lr.fit(x, y)"
   ]
  },
  {
   "cell_type": "code",
   "execution_count": 24,
   "id": "24dbdcd0",
   "metadata": {},
   "outputs": [
    {
     "data": {
      "text/plain": [
       "array([[3],\n",
       "       [1],\n",
       "       [2],\n",
       "       [2],\n",
       "       [1],\n",
       "       [3],\n",
       "       [1],\n",
       "       [1],\n",
       "       [1],\n",
       "       [3]], dtype=int64)"
      ]
     },
     "execution_count": 24,
     "metadata": {},
     "output_type": "execute_result"
    }
   ],
   "source": [
    "new_x = df['EDUCATION'][10:20].values.reshape(-1,1)\n",
    "new_x"
   ]
  },
  {
   "cell_type": "markdown",
   "id": "46400225",
   "metadata": {},
   "source": [
    "### A caracteristicas acima serão utilizadas na nossa variavel de previsão👆"
   ]
  },
  {
   "cell_type": "code",
   "execution_count": 25,
   "id": "5a001c91",
   "metadata": {},
   "outputs": [
    {
     "data": {
      "text/plain": [
       "array([0, 0, 0, 0, 0, 0, 0, 0, 0, 0], dtype=int64)"
      ]
     },
     "execution_count": 25,
     "metadata": {},
     "output_type": "execute_result"
    }
   ],
   "source": [
    "# Criando nossas previsões👇\n",
    "my_new_lr.predict(new_x)"
   ]
  },
  {
   "cell_type": "code",
   "execution_count": 26,
   "id": "f8246ff4",
   "metadata": {},
   "outputs": [
    {
     "data": {
      "text/plain": [
       "array([0, 0, 0, 1, 0, 0, 1, 0, 0, 0], dtype=int64)"
      ]
     },
     "execution_count": 26,
     "metadata": {},
     "output_type": "execute_result"
    }
   ],
   "source": [
    "# Visualizando os valores reais correspondentes a essas previsões\n",
    "df['default payment next month'][10:20].values"
   ]
  },
  {
   "cell_type": "markdown",
   "id": "c5601c80",
   "metadata": {},
   "source": [
    "#### Resumo desse capitulo: Após obter os valores de nossas novas caracteristicas, chamamos o metodo \"predict\" no modelo treinado. Observe que o único argumento desse método é um conjunto de caracteristicas, isto é, um \"X\" que chamamos de 'new_x'\n",
    "\n",
    "#### Nesse caso não foi fornecido nenhum \"Y\". Na verdade é para isso que serve a modelagem preditiva; você não sabe necessariamente o valor verdadeiro da variável de resposta, logo, tem de poder prevê-lo.\n",
    "\n",
    "#### Também vimos que a saída do metodo \"predict\" sao as previsões do modelo para essas amostras. em seguida, comparamos essas previsôes com os valores reais da variavel de resposta no nosso dataset limpo.\n",
    "\n",
    "#### Nosso modelo teve uma assertividade de 80%, o que parece bom para um projeto inicial. Este é um pequeno exemplo para me familiarizar com o scikit-learn e explorar mais esse método.\n",
    "\n",
    "#### Veremos mais detalhes da avaliação de capacidade do modelo preditivo em breve...😉😉😉"
   ]
  },
  {
   "cell_type": "markdown",
   "id": "39dce449",
   "metadata": {},
   "source": [
    "### Fim do terceiro capitulo!!"
   ]
  },
  {
   "cell_type": "code",
   "execution_count": null,
   "id": "6d43741d",
   "metadata": {},
   "outputs": [],
   "source": []
  }
 ],
 "metadata": {
  "kernelspec": {
   "display_name": "Python 3 (ipykernel)",
   "language": "python",
   "name": "python3"
  },
  "language_info": {
   "codemirror_mode": {
    "name": "ipython",
    "version": 3
   },
   "file_extension": ".py",
   "mimetype": "text/x-python",
   "name": "python",
   "nbconvert_exporter": "python",
   "pygments_lexer": "ipython3",
   "version": "3.8.11"
  }
 },
 "nbformat": 4,
 "nbformat_minor": 5
}
